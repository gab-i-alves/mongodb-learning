{
 "cells": [
  {
   "cell_type": "markdown",
   "id": "52c75cab",
   "metadata": {},
   "source": [
    "## Video Game Character Project\n",
    "#### Part II:\n",
    "Apply what you have done in the previous project and learned in the previous lectures to update and delete data related to your video game characters within your MongoDB database."
   ]
  },
  {
   "cell_type": "markdown",
   "id": "ded8a6c6",
   "metadata": {},
   "source": [
    "#### Import Dependencies"
   ]
  },
  {
   "cell_type": "code",
   "execution_count": 1,
   "id": "5cd057dd",
   "metadata": {},
   "outputs": [],
   "source": [
    "import copy\n",
    "import numpy as np\n",
    "\n",
    "from datetime import datetime \n",
    "from pymongo import MongoClient"
   ]
  },
  {
   "cell_type": "markdown",
   "id": "10b91355",
   "metadata": {},
   "source": [
    "#### Player and Items Python Classes "
   ]
  },
  {
   "cell_type": "code",
   "execution_count": 2,
   "id": "2da3978e",
   "metadata": {},
   "outputs": [],
   "source": [
    "class Player:\n",
    "    def __init__(self, name=\"player\", max_health=50, max_energy=25, items=[], gold=0):\n",
    "        self.name = name\n",
    "        self.health = max_health \n",
    "        self.max_health = max_health\n",
    "        self.energy = max_energy\n",
    "        self.max_energy = max_energy\n",
    "        self.items = copy.deepcopy(items)\n",
    "        self.gold = 0\n",
    "        \n",
    "        \n",
    "    def attack(self, player):\n",
    "        energy_cost = 5\n",
    "        \n",
    "        if self.energy >= energy_cost:\n",
    "            attack_strength = np.random.randint(7, 13)\n",
    "            player.health -= attack_strength\n",
    "            self.energy -= energy_cost\n",
    "            print(\"{} attacked {} for {} damage\".format(self.name, player.name, attack_strength))\n",
    "        else:\n",
    "            print(\"{} does not have enough energy to attack {}\".format(self.name, player.name))\n",
    "        \n",
    "        \n",
    "    def heal(self, amount):\n",
    "        self.health += amount\n",
    "        \n",
    "        if self.health > self.max_health:\n",
    "            self.health = self.max_health\n",
    " \n",
    "    def restore_energy(self, amount):\n",
    "        self.energy += amount\n",
    "        \n",
    "        if self.energy > self.max_energy:\n",
    "            self.energy = self.max_energy\n",
    "\n",
    "    def rest(self):\n",
    "        self.health = self.max_health\n",
    "        self.energy = self.max_energy\n",
    "        \n",
    "    def stats(self):\n",
    "        return vars(self)\n",
    "        \n",
    "        \n",
    "    def use_item(self, item_name):\n",
    "        try: \n",
    "            item = next(item for item in self.items if item.name == item_name)\n",
    "            item.quantity -= 1\n",
    "\n",
    "            for effect in item.effects:\n",
    "                for method, value in effect.items():\n",
    "                    class_method = getattr(self, method)\n",
    "                    class_method(value)\n",
    "\n",
    "            print(\"{} used item: {}\".format(self.name, item.name))\n",
    "                    \n",
    "            if item.quantity == 0:\n",
    "                self.items.remove(item)         \n",
    "                \n",
    "        except:\n",
    "            print(\"{} does not have any {}s\".format(self.name, item_name))"
   ]
  },
  {
   "cell_type": "code",
   "execution_count": 3,
   "id": "41dd597f",
   "metadata": {},
   "outputs": [],
   "source": [
    "class Item:\n",
    "    def __init__(self, name, quantity, effects=[]):\n",
    "        self.name = name\n",
    "        self.quantity = quantity \n",
    "        self.effects = effects\n",
    "        \n",
    "    def __repr__(self):\n",
    "        return \"Item(name={}, quantity={}, effects={})\".format(self.name, self.quantity, self.effects)"
   ]
  },
  {
   "cell_type": "code",
   "execution_count": 4,
   "id": "4d365064",
   "metadata": {},
   "outputs": [],
   "source": [
    "class NPC(Player):\n",
    "    pass"
   ]
  },
  {
   "cell_type": "markdown",
   "id": "8da3bb78",
   "metadata": {},
   "source": [
    "#### Project Instructions"
   ]
  },
  {
   "cell_type": "code",
   "execution_count": 5,
   "id": "196c4a52",
   "metadata": {},
   "outputs": [],
   "source": [
    "# TODO:\n",
    "# 1) Initalize a MongoDB Client object to connect to your database with\n",
    "client = MongoClient('mongodb://localhost:27017/')\n",
    "db = client['video_game']"
   ]
  },
  {
   "cell_type": "code",
   "execution_count": 6,
   "id": "c16935f4",
   "metadata": {},
   "outputs": [],
   "source": [
    "# TODO:\n",
    "# 2) Copy your function from project 1 that takes in a Player object and inserts it into the database \n",
    "#    make sure to include the new player attribute \"gold\"\n",
    "def convert_player_obj_to_dict(player_obj):\n",
    "    player_dict = copy.deepcopy(vars(player_obj))\n",
    "    \n",
    "    items_dict_list = []\n",
    "    for item_obj in player_dict[\"items\"]:\n",
    "        item_dict = vars(item_obj)\n",
    "        items_dict_list.append(item_dict)\n",
    "        \n",
    "    player_dict[\"items\"] = items_dict_list\n",
    "    \n",
    "    return player_dict\n",
    "    \n",
    "\n",
    "def insert_player_by_obj(player_obj, check_for_duplicates=True):\n",
    "    if check_for_duplicates:\n",
    "        duplicate_player = db.players.find_one({\"name\": player_obj.name})\n",
    "        if duplicate_player != None:\n",
    "            return duplicate_player[\"_id\"]\n",
    "        \n",
    "    player_dict = convert_player_obj_to_dict(player_obj) \n",
    "    return db.players.insert_one(player_dict).inserted_id\n",
    "\n",
    "# 3) Copy your function from project 1 that is able to find a Player in the database by searching for their name\n",
    "def find_player_by_name(name):\n",
    "    return db.players.find_one({\"name\": name})\n",
    "\n",
    "\n",
    "# 4) Copy your function from project 1 that loads the data from the above function and returns a Player object \n",
    "#    configured with that data, make sure to include the new player attribute \"gold\"\n",
    "def convert_player_dict_to_obj(player_dict):\n",
    "    p = player_dict\n",
    "\n",
    "    items_list = []\n",
    "    for item in p[\"items\"]: \n",
    "        item_obj = Item(item[\"name\"], item[\"quantity\"], item[\"effects\"])\n",
    "        items_list.append(item_obj)\n",
    "        \n",
    "    player_obj = Player()\n",
    "    player_obj.__dict__ = copy.deepcopy(player_dict)\n",
    "    player_obj.items = items_list\n",
    "    \n",
    "    return player_obj\n",
    "\n",
    "\n",
    "# 5) Create a function which returns a Player object given a name to look for in the database as an input.\n",
    "#    Hint: use the functions you have in steps 3 and 4\n",
    "def get_player_obj_by_name(name):\n",
    "    player_dict = find_player_by_name(name)\n",
    "    return convert_player_dict_to_obj(player_dict)"
   ]
  },
  {
   "cell_type": "code",
   "execution_count": 7,
   "id": "2d795411",
   "metadata": {},
   "outputs": [],
   "source": [
    "# TODO:\n",
    "# 6) Create a function which takes in a NPC object and inserts it into the database.\n",
    "#    Hint: You should probably organize the NPC's into a seperate MongoDB collection than the players. \n",
    "def insert_npc_by_obj(npc_obj, check_for_duplicates=True):\n",
    "    if check_for_duplicates:\n",
    "        duplicate_npc = db.npc.find_one({\"name\": npc_obj.name})\n",
    "        if duplicate_npc != None:\n",
    "            return duplicate_npc[\"_id\"]\n",
    "    \n",
    "    npc_dict = convert_player_obj_to_dict(npc_obj)\n",
    "    return db.npc.insert_one(npc_dict).inserted_id\n",
    "\n",
    "# 7) Create a function that allows you to find an NPC in the database by name. \n",
    "def find_npc_by_name(npc_name):\n",
    "    return db.npc.find_one({\"name\": npc_name})\n",
    "\n",
    "\n",
    "# 8) Create a function which given the NPC name, will return a NPC object. \n",
    "def get_npc_obj_by_name(npc_name):\n",
    "    npc_dict = find_npc_by_name(npc_name)\n",
    "    player_obj = convert_player_dict_to_obj(npc_dict)\n",
    "    npc_obj = NPC()\n",
    "    npc_obj.__dict__ = player_obj.__dict__\n",
    "    return npc_obj"
   ]
  },
  {
   "cell_type": "code",
   "execution_count": 8,
   "id": "1ef6e788",
   "metadata": {},
   "outputs": [],
   "source": [
    "# TODO:\n",
    "# 9) Create a function which will update information in your database given the player object\n",
    "def update_player_by_obj(player_obj):\n",
    "    player_dict = convert_player_obj_to_dict(player_obj)\n",
    "    return db.players.update_one({\"name\": player_dict[\"name\"]}, {\"$set\": player_dict})\n",
    "\n",
    "# 10) Create a function which will delete a player in the database given the player's name\n",
    "def delete_player_by_name(player_name):\n",
    "    return db.players.delete_one({\"name\": player_name})\n",
    "\n",
    "# 11) Create a function to insert a \"battle log\" by dict\n",
    "#     Hint: You should probably organize the battle logs in a seperate MongoDB collection.\n",
    "def insert_battle_log_by_dict(battle_result_dict):\n",
    "    return db.battle_log.insert_one(battle_result_dict).inserted_id"
   ]
  },
  {
   "cell_type": "markdown",
   "id": "7ee4ac72",
   "metadata": {},
   "source": [
    "#### BattleNPC Python Class"
   ]
  },
  {
   "cell_type": "code",
   "execution_count": 9,
   "id": "33414b6c",
   "metadata": {},
   "outputs": [],
   "source": [
    "class BattleNPC:\n",
    "    def __init__(self, player_name, npc_name, gold_reward):\n",
    "        self.verify_player_and_npc_name_valid(player_name, npc_name)\n",
    "        self.player = get_player_obj_by_name(player_name)\n",
    "        self.npc = get_npc_obj_by_name(npc_name)\n",
    "        self.gold_reward = int(gold_reward)\n",
    "        self.start_time_utc = None\n",
    "\n",
    "    def prompt_user_action(self):\n",
    "        if len(self.player.items) > 0:\n",
    "            acceptable_actions = [\"a\", \"i\", \"q\"]\n",
    "            prompt = \"Do you want to Attack (a), Use an Item (i), or Quit (q): \"\n",
    "            user_action = input(prompt)\n",
    "        else:\n",
    "            acceptable_actions = [\"a\", \"q\"]\n",
    "            prompt = \"Do you want to Attack (a) or Quit (q): \"\n",
    "            user_action = input(prompt)\n",
    "            \n",
    "        while user_action not in acceptable_actions:\n",
    "            print(\"Invalid option, acceptable options are: \")\n",
    "            print(acceptable_actions)\n",
    "            user_action = input(prompt)\n",
    "\n",
    "        return user_action\n",
    "\n",
    "\n",
    "    def prompt_player_item(self, player_obj):\n",
    "        for index, item in enumerate(player_obj.items):\n",
    "            print(\"[{}] - {}\".format(index, item))\n",
    "\n",
    "        item_index = int(input(\"Which item do you want to use?\"))\n",
    "        while item_index not in range(len(player_obj.items)):\n",
    "            print(\"Invalid item index.\")\n",
    "            item_index = int(input(\"Which item do you want to use?\"))\n",
    "            \n",
    "        return player_obj.items[item_index].name\n",
    "\n",
    "\n",
    "    def execute_player_action(self, user_action):\n",
    "        if user_action == \"a\":\n",
    "            self.player.attack(self.npc)\n",
    "        elif user_action == \"i\":\n",
    "            item_name = self.prompt_player_item(self.player)\n",
    "            self.player.use_item(item_name)\n",
    "\n",
    "    \n",
    "    def npc_action(self):\n",
    "        if len(self.npc.items) > 0:\n",
    "            npc_action = np.random.choice([\"a\", \"i\"], 1, [0.7, 0.3])[0]\n",
    "        else:\n",
    "            npc_action = \"a\"\n",
    "            \n",
    "        if npc_action == \"i\":\n",
    "            item_index = np.random.randint(0, len(self.npc.items))\n",
    "            self.npc.use_item(self.npc.items[item_index].name)\n",
    "        else:\n",
    "            self.npc.attack(self.player)\n",
    "        \n",
    "    \n",
    "    def generate_battle_log_dict(self, result):\n",
    "        battle_log_dict = {\n",
    "            \"start_time_utc\": self.start_time_utc,\n",
    "            \"player_name\": self.player.name,\n",
    "            \"npc_name\": self.npc.name,\n",
    "            \"result\": result\n",
    "        }\n",
    "        return battle_log_dict\n",
    "\n",
    "    def verify_player_and_npc_name_valid(self, player_name, npc_name):\n",
    "        assert find_player_by_name(player_name) != None, \\\n",
    "                \"Player with name '{}' does not exist in database\".format(player_name)\n",
    "        \n",
    "        assert find_npc_by_name(npc_name) != None, \\\n",
    "                \"NPC with name '{}' does not exist in database\".format(npc_name)\n",
    "            \n",
    "    \n",
    "    def start(self):\n",
    "        self.start_time_utc = datetime.utcnow()\n",
    "        \n",
    "        round_num = 0\n",
    "        while self.player.health > 0 and self.npc.health > 0:\n",
    "            print(\"\\n-- Round {}. Player(health={}, energy={}), NPC(health={}, energy={})\".format(\n",
    "                  round_num, self.player.health, self.player.energy, self.npc.health, self.npc.energy))\n",
    "            \n",
    "            user_action = self.prompt_user_action()\n",
    "\n",
    "            if user_action == \"q\":\n",
    "                print(\"Quitting battle...\")\n",
    "                battle_result = \"Player {} quit against {}\".format(self.player.name, self.npc.name)\n",
    "                insert_battle_log_by_dict(self.generate_battle_log_dict(battle_result))\n",
    "                return None\n",
    "            else:\n",
    "                self.execute_player_action(user_action)\n",
    "\n",
    "            if self.npc.health > 0:\n",
    "                self.npc_action()  \n",
    "                \n",
    "            update_player_by_obj(self.player)    \n",
    "            round_num += 1\n",
    "\n",
    "        if self.player.health > 0 and self.npc.health <= 0:\n",
    "            self.player.gold += self.gold_reward \n",
    "            battle_result = \"Player {} won the battle against {}\".format(self.player.name, self.npc.name) \n",
    "        else:\n",
    "            battle_result = \"Player {} was beaten by {}\".format(self.player.name, self.npc.name)\n",
    "          \n",
    "        print(\"\\n-- \" + battle_result + \" --\")\n",
    "        self.player.rest()\n",
    "        update_player_by_obj(self.player)\n",
    "        insert_battle_log_by_dict(self.generate_battle_log_dict(battle_result))"
   ]
  },
  {
   "cell_type": "markdown",
   "id": "d73368d3",
   "metadata": {},
   "source": [
    "#### Use the functions and classes above to create a Player and an NPC, and start a battle between them"
   ]
  },
  {
   "cell_type": "code",
   "execution_count": 10,
   "id": "7ed7a81b",
   "metadata": {},
   "outputs": [
    {
     "data": {
      "text/plain": [
       "{'name': 'Seraphine',\n",
       " 'health': 60,\n",
       " 'max_health': 60,\n",
       " 'energy': 35,\n",
       " 'max_energy': 35,\n",
       " 'items': [Item(name=greater_health_potion, quantity=2, effects=[{'heal': 25}]),\n",
       "  Item(name=greater_energy_potion, quantity=2, effects=[{'restore_energy': 25}])],\n",
       " 'gold': 0}"
      ]
     },
     "execution_count": 10,
     "metadata": {},
     "output_type": "execute_result"
    }
   ],
   "source": [
    "# TODO:\n",
    "# 12) Create a Player and NPC, optionally give them items\n",
    "npc_items = [Item(\"health_potion\", 2, [{\"heal\": 10}])]\n",
    "npc = NPC(\"Goblin\", 50, 25, npc_items)\n",
    "\n",
    "player_items = [Item(\"greater_health_potion\", 2, [{\"heal\": 25}]),\n",
    "                Item(\"greater_energy_potion\", 2, [{\"restore_energy\": 25}])]\n",
    "player = Player(\"Seraphine\", 60, 35, player_items)\n",
    "\n",
    "player.stats()"
   ]
  },
  {
   "cell_type": "code",
   "execution_count": 11,
   "id": "32b9f1bc",
   "metadata": {},
   "outputs": [
    {
     "data": {
      "text/plain": [
       "ObjectId('67785aa31b0ea19004949b68')"
      ]
     },
     "execution_count": 11,
     "metadata": {},
     "output_type": "execute_result"
    }
   ],
   "source": [
    "# 13) Insert Player into MongoDB\n",
    "insert_player_by_obj(player)"
   ]
  },
  {
   "cell_type": "code",
   "execution_count": 12,
   "id": "bdb75247",
   "metadata": {},
   "outputs": [
    {
     "data": {
      "text/plain": [
       "ObjectId('67785aa31b0ea19004949b69')"
      ]
     },
     "execution_count": 12,
     "metadata": {},
     "output_type": "execute_result"
    }
   ],
   "source": [
    "# 14) Insert NPC into MongoDB\n",
    "insert_npc_by_obj(npc)"
   ]
  },
  {
   "cell_type": "code",
   "execution_count": 13,
   "id": "f8e3a6c6",
   "metadata": {},
   "outputs": [
    {
     "name": "stdout",
     "output_type": "stream",
     "text": [
      "\n",
      "-- Round 0. Player(health=60, energy=35), NPC(health=50, energy=25)\n",
      "Seraphine attacked Goblin for 7 damage\n",
      "Goblin attacked Seraphine for 9 damage\n",
      "\n",
      "-- Round 1. Player(health=51, energy=30), NPC(health=43, energy=20)\n",
      "[0] - Item(name=greater_health_potion, quantity=2, effects=[{'heal': 25}])\n",
      "[1] - Item(name=greater_energy_potion, quantity=2, effects=[{'restore_energy': 25}])\n"
     ]
    },
    {
     "ename": "ValueError",
     "evalue": "invalid literal for int() with base 10: ''",
     "output_type": "error",
     "traceback": [
      "\u001b[0;31m---------------------------------------------------------------------------\u001b[0m",
      "\u001b[0;31mValueError\u001b[0m                                Traceback (most recent call last)",
      "Cell \u001b[0;32mIn[13], line 4\u001b[0m\n\u001b[1;32m      1\u001b[0m \u001b[38;5;66;03m# 15) Start a battle between the Player and NPC you created using the BattleNPC class\u001b[39;00m\n\u001b[1;32m      2\u001b[0m \u001b[38;5;66;03m#     Hint: After initalizing BattleNPC, you will need to call its start() method\u001b[39;00m\n\u001b[1;32m      3\u001b[0m battle \u001b[38;5;241m=\u001b[39m BattleNPC(\u001b[38;5;124m\"\u001b[39m\u001b[38;5;124mSeraphine\u001b[39m\u001b[38;5;124m\"\u001b[39m, \u001b[38;5;124m\"\u001b[39m\u001b[38;5;124mGoblin\u001b[39m\u001b[38;5;124m\"\u001b[39m, \u001b[38;5;241m500\u001b[39m)\n\u001b[0;32m----> 4\u001b[0m \u001b[43mbattle\u001b[49m\u001b[38;5;241;43m.\u001b[39;49m\u001b[43mstart\u001b[49m\u001b[43m(\u001b[49m\u001b[43m)\u001b[49m\n",
      "Cell \u001b[0;32mIn[9], line 93\u001b[0m, in \u001b[0;36mBattleNPC.start\u001b[0;34m(self)\u001b[0m\n\u001b[1;32m     91\u001b[0m     \u001b[38;5;28;01mreturn\u001b[39;00m \u001b[38;5;28;01mNone\u001b[39;00m\n\u001b[1;32m     92\u001b[0m \u001b[38;5;28;01melse\u001b[39;00m:\n\u001b[0;32m---> 93\u001b[0m     \u001b[38;5;28;43mself\u001b[39;49m\u001b[38;5;241;43m.\u001b[39;49m\u001b[43mexecute_player_action\u001b[49m\u001b[43m(\u001b[49m\u001b[43muser_action\u001b[49m\u001b[43m)\u001b[49m\n\u001b[1;32m     95\u001b[0m \u001b[38;5;28;01mif\u001b[39;00m \u001b[38;5;28mself\u001b[39m\u001b[38;5;241m.\u001b[39mnpc\u001b[38;5;241m.\u001b[39mhealth \u001b[38;5;241m>\u001b[39m \u001b[38;5;241m0\u001b[39m:\n\u001b[1;32m     96\u001b[0m     \u001b[38;5;28mself\u001b[39m\u001b[38;5;241m.\u001b[39mnpc_action()  \n",
      "Cell \u001b[0;32mIn[9], line 43\u001b[0m, in \u001b[0;36mBattleNPC.execute_player_action\u001b[0;34m(self, user_action)\u001b[0m\n\u001b[1;32m     41\u001b[0m     \u001b[38;5;28mself\u001b[39m\u001b[38;5;241m.\u001b[39mplayer\u001b[38;5;241m.\u001b[39mattack(\u001b[38;5;28mself\u001b[39m\u001b[38;5;241m.\u001b[39mnpc)\n\u001b[1;32m     42\u001b[0m \u001b[38;5;28;01melif\u001b[39;00m user_action \u001b[38;5;241m==\u001b[39m \u001b[38;5;124m\"\u001b[39m\u001b[38;5;124mi\u001b[39m\u001b[38;5;124m\"\u001b[39m:\n\u001b[0;32m---> 43\u001b[0m     item_name \u001b[38;5;241m=\u001b[39m \u001b[38;5;28;43mself\u001b[39;49m\u001b[38;5;241;43m.\u001b[39;49m\u001b[43mprompt_player_item\u001b[49m\u001b[43m(\u001b[49m\u001b[38;5;28;43mself\u001b[39;49m\u001b[38;5;241;43m.\u001b[39;49m\u001b[43mplayer\u001b[49m\u001b[43m)\u001b[49m\n\u001b[1;32m     44\u001b[0m     \u001b[38;5;28mself\u001b[39m\u001b[38;5;241m.\u001b[39mplayer\u001b[38;5;241m.\u001b[39muse_item(item_name)\n",
      "Cell \u001b[0;32mIn[9], line 31\u001b[0m, in \u001b[0;36mBattleNPC.prompt_player_item\u001b[0;34m(self, player_obj)\u001b[0m\n\u001b[1;32m     28\u001b[0m \u001b[38;5;28;01mfor\u001b[39;00m index, item \u001b[38;5;129;01min\u001b[39;00m \u001b[38;5;28menumerate\u001b[39m(player_obj\u001b[38;5;241m.\u001b[39mitems):\n\u001b[1;32m     29\u001b[0m     \u001b[38;5;28mprint\u001b[39m(\u001b[38;5;124m\"\u001b[39m\u001b[38;5;124m[\u001b[39m\u001b[38;5;132;01m{}\u001b[39;00m\u001b[38;5;124m] - \u001b[39m\u001b[38;5;132;01m{}\u001b[39;00m\u001b[38;5;124m\"\u001b[39m\u001b[38;5;241m.\u001b[39mformat(index, item))\n\u001b[0;32m---> 31\u001b[0m item_index \u001b[38;5;241m=\u001b[39m \u001b[38;5;28;43mint\u001b[39;49m\u001b[43m(\u001b[49m\u001b[38;5;28;43minput\u001b[39;49m\u001b[43m(\u001b[49m\u001b[38;5;124;43m\"\u001b[39;49m\u001b[38;5;124;43mWhich item do you want to use?\u001b[39;49m\u001b[38;5;124;43m\"\u001b[39;49m\u001b[43m)\u001b[49m\u001b[43m)\u001b[49m\n\u001b[1;32m     32\u001b[0m \u001b[38;5;28;01mwhile\u001b[39;00m item_index \u001b[38;5;129;01mnot\u001b[39;00m \u001b[38;5;129;01min\u001b[39;00m \u001b[38;5;28mrange\u001b[39m(\u001b[38;5;28mlen\u001b[39m(player_obj\u001b[38;5;241m.\u001b[39mitems)):\n\u001b[1;32m     33\u001b[0m     \u001b[38;5;28mprint\u001b[39m(\u001b[38;5;124m\"\u001b[39m\u001b[38;5;124mInvalid item index.\u001b[39m\u001b[38;5;124m\"\u001b[39m)\n",
      "\u001b[0;31mValueError\u001b[0m: invalid literal for int() with base 10: ''"
     ]
    }
   ],
   "source": [
    "# 15) Start a battle between the Player and NPC you created using the BattleNPC class\n",
    "#     Hint: After initalizing BattleNPC, you will need to call its start() method\n",
    "battle = BattleNPC(\"Seraphine\", \"Goblin\", 500)\n",
    "battle.start()"
   ]
  },
  {
   "cell_type": "code",
   "execution_count": null,
   "id": "4917d71a",
   "metadata": {},
   "outputs": [],
   "source": []
  }
 ],
 "metadata": {
  "kernelspec": {
   "display_name": "Python 3",
   "language": "python",
   "name": "python3"
  },
  "language_info": {
   "codemirror_mode": {
    "name": "ipython",
    "version": 3
   },
   "file_extension": ".py",
   "mimetype": "text/x-python",
   "name": "python",
   "nbconvert_exporter": "python",
   "pygments_lexer": "ipython3",
   "version": "3.10.12"
  }
 },
 "nbformat": 4,
 "nbformat_minor": 5
}
